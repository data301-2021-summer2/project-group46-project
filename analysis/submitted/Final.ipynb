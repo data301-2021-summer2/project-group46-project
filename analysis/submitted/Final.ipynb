{
 "cells": [
  {
   "cell_type": "code",
   "execution_count": 2,
   "metadata": {},
   "outputs": [],
   "source": [
    "import pandas as pd\n",
    "import seaborn as sns\n",
    "import numpy as np\n",
    "import sys\n",
    "import os\n",
    "import datetime\n",
    "\n",
    "# For how to import the scripts folder so that it can be used:\n",
    "# https://stackoverflow.com/questions/53049195/importing-custom-module-into-jupyter-notebook\n",
    "# https://stackoverflow.com/questions/49264194/import-py-file-in-another-directory-in-jupyter-notebook\n",
    "sys.path.append('../scripts')\n",
    "\n",
    "import project_functions\n",
    "# relative import did not work for some reason\n",
    "#from .. import project_functions\n",
    "\n",
    "pathToData = '../../data/raw/ks-projects-201801.csv'\n",
    "\n",
    "dfj = project_functions.load_and_process(pathToData, 'Jacob')\n",
    "dfr = project_functions.load_and_process(pathToData, 'Rylan')"
   ]
  },
  {
   "cell_type": "markdown",
   "metadata": {},
   "source": [
    "## Task 3 | Exploratory Data Analysis | Jacob"
   ]
  },
  {
   "cell_type": "markdown",
   "metadata": {},
   "source": [
    "The info function gives information on all the columns and there associated types. The result shows that the 'load_and_process' function of the data pipeline has worked correctly as the new **'stateInt'** (int64), **'duration'** (timedelta64)\\[ns\\], and **'durationInt'** (int 64) columns have been created with the correct types."
   ]
  },
  {
   "cell_type": "code",
   "execution_count": null,
   "metadata": {},
   "outputs": [],
   "source": [
    "dfj.info()"
   ]
  },
  {
   "cell_type": "markdown",
   "metadata": {},
   "source": [
    "This function shows the number of unique values for each column."
   ]
  },
  {
   "cell_type": "code",
   "execution_count": null,
   "metadata": {},
   "outputs": [],
   "source": [
    "print(dfj.nunique(axis=0))"
   ]
  },
  {
   "cell_type": "code",
   "execution_count": null,
   "metadata": {},
   "outputs": [],
   "source": [
    "print(dfj.describe())"
   ]
  },
  {
   "cell_type": "markdown",
   "metadata": {},
   "source": [
    "This plot shows the distribution of Kickstarter projects based on the duration of the project. Interestingly, this shows that 1 month long projects are the majority of projects composing about 47% of all projects. 2 month long and 1.5 month long projects are the next most common."
   ]
  },
  {
   "cell_type": "code",
   "execution_count": null,
   "metadata": {},
   "outputs": [],
   "source": [
    "\n",
    "axes = sns.displot(data=dfj[dfj['durationInt'].between(0, 90)], x='durationInt', aspect=2.0, bins=50).set(title='Distribution of Kickstarter Projects by Count')\n",
    "#axes = sns.displot(data=df, x='durationInt', aspect=2.0)\n",
    "axes.set_axis_labels('Duration of Kickstarter Project', 'Count')\n",
    "# https://seaborn.pydata.org/generated/seaborn.FacetGrid.html#seaborn.FacetGrid\n",
    "axes.set(xticks=np.arange(0, 90, 5))\n",
    "\n",
    "\n",
    "# Learned how to use 'stat' parameter to get bins by probability and not count from user miro from here:\n",
    "# https://stackoverflow.com/questions/40092294/creating-a-matplotlib-or-seaborn-histogram-which-uses-percent-rather-than-count\n",
    "axes = sns.displot(data=dfj[dfj['durationInt'].between(0, 90)], x='durationInt', aspect=2.0, bins=50, stat='probability').set(title='Distribution of Kickstarter Projects by Probability')\n",
    "axes.set_axis_labels('Duration of Kickstarter Project', 'Probability')\n",
    "axes.set(xticks=np.arange(0, 90, 5), yticks=np.arange(0,1.1,0.1))"
   ]
  },
  {
   "cell_type": "markdown",
   "metadata": {},
   "source": [
    "Here is another interesting plot which shows the distribution of the different possible states of a project. Since my research question is focused on how the duration of a project affects it success, I am going to focus on projects which have the states of 'failed/canceled' or 'successful'. The other states do not provide information about the success so they will be filter out."
   ]
  },
  {
   "cell_type": "code",
   "execution_count": null,
   "metadata": {},
   "outputs": [],
   "source": [
    "sns.countplot(x='state', data=dfj)"
   ]
  },
  {
   "cell_type": "code",
   "execution_count": null,
   "metadata": {},
   "outputs": [],
   "source": [
    "# Learned how to change seaborn plot size from user 'student' here:\n",
    "# https://stackoverflow.com/questions/31594549/how-do-i-change-the-figure-size-for-a-seaborn-plot\n",
    "sns.set(rc={'figure.figsize':(16,8.27)})\n",
    "box1 = sns.boxplot(data=dfj[dfj['durationInt'].between(0, 90)], y='durationInt', x='main_category')\n",
    "box1.set(yticks=np.arange(0,90,5))\n",
    "print()"
   ]
  },
  {
   "cell_type": "code",
   "execution_count": null,
   "metadata": {},
   "outputs": [],
   "source": [
    "sns.pairplot(dfj)"
   ]
  },
  {
   "cell_type": "markdown",
   "metadata": {},
   "source": [
    "## Task 3 | Exploratory Data Analysis | Rylan"
   ]
  },
  {
   "cell_type": "code",
   "execution_count": null,
   "metadata": {},
   "outputs": [],
   "source": [
    "import os\n",
    "import numpy as np\n",
    "import pandas as pd\n",
    "import seaborn as sns\n",
    "import matplotlib as plt\n",
    "import sys\n",
    "\n",
    "sys.path.append('../scripts')\n",
    "\n",
    "import project_functions\n",
    "\n",
    "dfr = project_functions.load_and_process('../../data/raw/ks-projects-201801.csv', \"Rylan\")"
   ]
  },
  {
   "cell_type": "code",
   "execution_count": null,
   "metadata": {},
   "outputs": [],
   "source": [
    "dfr.shape"
   ]
  },
  {
   "cell_type": "code",
   "execution_count": null,
   "metadata": {},
   "outputs": [],
   "source": [
    "dfr.head()"
   ]
  },
  {
   "cell_type": "code",
   "execution_count": null,
   "metadata": {},
   "outputs": [],
   "source": [
    "dfr.columns"
   ]
  },
  {
   "cell_type": "code",
   "execution_count": null,
   "metadata": {},
   "outputs": [],
   "source": [
    "dfr.nunique(axis=0)"
   ]
  },
  {
   "cell_type": "code",
   "execution_count": null,
   "metadata": {},
   "outputs": [],
   "source": [
    "dfr.describe().apply(lambda s: s.apply('{0:.5f}'.format))\n",
    "#https://stackoverflow.com/questions/40347689/dataframe-describe-suppress-scientific-notation/47207283"
   ]
  },
  {
   "cell_type": "code",
   "execution_count": null,
   "metadata": {},
   "outputs": [],
   "source": [
    "sns.set(rc={'figure.figsize': (15,10)})\n",
    "sns.barplot(data=dfr,x='category',y='pledged',estimator=np.sum)\n",
    "#https://stackoverflow.com/questions/31594549/how-do-i-change-the-figure-size-for-a-seaborn-plot\n",
    "#https://www.youtube.com/watch?v=6GUZXDef2U0&ab_channel=DerekBanas"
   ]
  },
  {
   "cell_type": "code",
   "execution_count": null,
   "metadata": {},
   "outputs": [],
   "source": [
    "sns.set(rc={'figure.figsize': (15,10)})\n",
    "sns.barplot(data=dfr,x='category',y='pledged',estimator=np.mean)"
   ]
  },
  {
   "cell_type": "code",
   "execution_count": null,
   "metadata": {},
   "outputs": [],
   "source": [
    "sns.set(rc={'figure.figsize': (15,10)})\n",
    "sns.barplot(data=dfr,x='category',y='plus_minus',estimator=np.sum)"
   ]
  },
  {
   "cell_type": "markdown",
   "metadata": {},
   "source": [
    "## Task 4 | Research Question Analysis | Jacob"
   ]
  },
  {
   "cell_type": "markdown",
   "metadata": {},
   "source": [
    "<div style='color:blue; font-size:15pt'>Jacob's research question: Does the duration of a Kickstarter project affect its success?</div> "
   ]
  },
  {
   "cell_type": "markdown",
   "metadata": {},
   "source": [
    "---"
   ]
  },
  {
   "cell_type": "markdown",
   "metadata": {},
   "source": [
    "One way to test this research question is to create a correlation matrix where the correlation between each pair of numeric variables in the dataset can be seen."
   ]
  },
  {
   "cell_type": "code",
   "execution_count": null,
   "metadata": {},
   "outputs": [],
   "source": [
    "import seaborn as sns\n",
    "corr = dfj.corr()\n",
    "sns.heatmap(corr, annot=True, cmap='winter')"
   ]
  },
  {
   "cell_type": "markdown",
   "metadata": {},
   "source": [
    "In this plot, I am interested in the correlation between how funded the project was (percentFunded) and the duration of the project (durationInt). Here it shows a correlation of -0.024 which is a strong first indicator that the duration of the Kickstarter project may not affect its success."
   ]
  },
  {
   "cell_type": "markdown",
   "metadata": {},
   "source": [
    "Here is another plot which helps show visually that duration of the project doesn't seem to be strongly correlated with the success of the project. Interestingly we can see that the amount of projects increases around 100%, but before 100% the amount of projects is not as many. I think this may be because once a project is close to being funded (80%-90%) it may be that more backers will fund the project to push it to reach 100% since it is so close."
   ]
  },
  {
   "cell_type": "code",
   "execution_count": null,
   "metadata": {},
   "outputs": [],
   "source": [
    "df2 = dfj[dfj['percentFunded'].between(0, 200)]\n",
    "sns.jointplot(data=df2, x='durationInt', y='percentFunded')"
   ]
  },
  {
   "cell_type": "markdown",
   "metadata": {},
   "source": [
    "Here is one of the main plots for this investigation. It shows the probability of success of the project versus how long the project's funding time was. It shows that there indeed is a variance in the success of projects based on how long they run. Interestingly, there are two main peaks for highest success. One ata around ~10 days and another at ~66 days."
   ]
  },
  {
   "cell_type": "code",
   "execution_count": null,
   "metadata": {},
   "outputs": [],
   "source": [
    "# Plot probability of success vs. project funding time length\n",
    "df2 = project_functions.prepareDfForProbSuccessVSDuration(dfj)\n",
    "# https://pandas.pydata.org/pandas-docs/stable/reference/api/pandas.DataFrame.plot.html?highlight=plot#pandas.DataFrame.plot\n",
    "df2.plot(kind='bar', x='formattedTimeIntervals', y='stateInt', ylabel='Probability of Success', xlabel='Duration of Project', ylim=(0,1), legend=False, title='Probability of Success vs. Project Funding Time Length')\n"
   ]
  },
  {
   "cell_type": "markdown",
   "metadata": {},
   "source": [
    "This part gets the probability of success for projects that have a funding time in between 63 and 70 days and plots it by category."
   ]
  },
  {
   "cell_type": "code",
   "execution_count": 8,
   "metadata": {},
   "outputs": [
    {
     "name": "stdout",
     "output_type": "stream",
     "text": [
      "Name                644\n",
      "category             50\n",
      "main_category        15\n",
      "currency              1\n",
      "deadline            361\n",
      "launched            644\n",
      "pledged             476\n",
      "state                 3\n",
      "backers             149\n",
      "country               1\n",
      "usd_pledged_real    476\n",
      "usd_goal_real       134\n",
      "stateInt              2\n",
      "duration            644\n",
      "percentFunded       514\n",
      "durationInt           7\n",
      "dtype: int64\n",
      "mean: 0.42857142857142855\n"
     ]
    },
    {
     "data": {
      "image/png": "[encoded data removed]",
      "text/plain": [
       "<Figure size 1152x595.44 with 1 Axes>"
      ]
     },
     "metadata": {},
     "output_type": "display_data"
    }
   ],
   "source": [
    "dfNew = project_functions.getProjectsWithDurationInTimeRange(dfj, 63, 70)\n",
    "dfNew = project_functions.getProjectsAsFailedOrSuccessful(dfNew)\n",
    "print(dfNew.nunique(axis=0))\n",
    "print(f\"mean: {dfNew['stateInt'].mean()}\")\n",
    "dfTest = dfNew.groupby('main_category')['stateInt'].mean().plot(kind='bar')"
   ]
  },
  {
   "cell_type": "code",
   "execution_count": null,
   "metadata": {},
   "outputs": [],
   "source": [
    "\n",
    "dfNew2 = project_functions.getProjectsWithDurationInTimeRange(dfj, 7, 14)\n",
    "dfNew2 = project_functions.getProjectsAsFailedOrSuccessful(dfNew2)\n",
    "dfTest2 = dfNew2.groupby('main_category')['stateInt'].mean().plot(kind='bar')"
   ]
  },
  {
   "cell_type": "code",
   "execution_count": 7,
   "metadata": {},
   "outputs": [
    {
     "name": "stdout",
     "output_type": "stream",
     "text": [
      "Index(['stateInt', 'duration2', 'category2'], dtype='object')\n"
     ]
    },
    {
     "data": {
      "text/plain": [
       "<matplotlib.legend.Legend at 0x7fde9bb820a0>"
      ]
     },
     "execution_count": 7,
     "metadata": {},
     "output_type": "execute_result"
    },
    {
     "data": {
      "image/png": "[encoded data removed]",
      "text/plain": [
       "<Figure size 1152x595.44 with 1 Axes>"
      ]
     },
     "metadata": {},
     "output_type": "display_data"
    }
   ],
   "source": [
    "import matplotlib.pyplot as plt\n",
    "\n",
    "# Learned how to change seaborn plot size from user 'student' here:\n",
    "# https://stackoverflow.com/questions/31594549/how-do-i-change-the-figure-size-for-a-seaborn-plot\n",
    "sns.set(rc={'figure.figsize':(16,8.27)})\n",
    "\n",
    "dfByCategory = project_functions.prepareDfForProbSuccessVSDurationByCategories(dfj)\n",
    "\n",
    "a = sns.barplot(data=dfByCategory, x='duration2', y='stateInt', hue='category2')\n",
    "# for help rotating x_tick labels:\n",
    "# https://stackoverflow.com/questions/61368851/how-to-rotate-seaborn-barplot-x-axis-tick-labels\n",
    "a.set_xticklabels(a.get_xticklabels(), rotation=45, horizontalalignment='right')\n",
    "# https://stackoverflow.com/questions/31632637/label-axes-on-seaborn-barplot\n",
    "a.set(xlabel='Funding Time Length', ylabel='Probability of Project Success')\n",
    "\n",
    "#plt.legend(loc='upper left')\n",
    "plt.legend(bbox_to_anchor=(1.05, 1), loc=2, borderaxespad=0.)\n"
   ]
  },
  {
   "cell_type": "markdown",
   "metadata": {},
   "source": [
    "Based on the inital correlation matrix, it seemed as though there wasn't a relationship between the project funding duration and the probability of the project's success. **However, after ploting the probability of success vs project duration there did seem to be a relationship, although non-linear**. Because the relationship is non-linear that may be why the correlation matrix did not show a relationship between the two variables. Based on the graphs, the project success peaks if it has a > 1 week < 4 week duration. This makes sense as if a project doesn't have too long to be funded it may incentivised a potential backer to back right away lessening the probability that they forget about the project. Also project success dips somewhat lower if it is < 1 week and this also makes sense. If a project only has a funding duration of 1 week less people are likely to be able to see it and the news of the project may not reach enough people."
   ]
  },
  {
   "cell_type": "markdown",
   "metadata": {},
   "source": [
    "The probability of success vs funding time curve also seemed to be a similar shape for most categories peaking at ~10 days and having a lowest point at ~60 days. Although the overall probability of success varied between categories, which can be seen by the curve being 'squashed' for lower probability categories and 'stretched' for higher probability categories."
   ]
  },
  {
   "cell_type": "code",
   "execution_count": null,
   "metadata": {},
   "outputs": [],
   "source": []
  },
  {
   "cell_type": "markdown",
   "metadata": {},
   "source": [
    "## Task 4 | Research Question Analysis | Rylan"
   ]
  },
  {
   "cell_type": "markdown",
   "metadata": {},
   "source": [
    "Rylan's research question: Which categories have the most successful dollar spent?"
   ]
  },
  {
   "cell_type": "code",
   "execution_count": null,
   "metadata": {},
   "outputs": [],
   "source": []
  }
 ],
 "metadata": {
  "kernelspec": {
   "display_name": "Python 3",
   "language": "python",
   "name": "python3"
  },
  "language_info": {
   "codemirror_mode": {
    "name": "ipython",
    "version": 3
   },
   "file_extension": ".py",
   "mimetype": "text/x-python",
   "name": "python",
   "nbconvert_exporter": "python",
   "pygments_lexer": "ipython3",
   "version": "3.8.5"
  }
 },
 "nbformat": 4,
 "nbformat_minor": 4
}
