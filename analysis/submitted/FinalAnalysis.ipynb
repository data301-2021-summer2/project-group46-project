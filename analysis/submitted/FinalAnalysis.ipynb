{
 "cells": [
  {
   "cell_type": "markdown",
   "metadata": {},
   "source": [
    "# Task 1 Data Analysis Pipeline\n",
    "This part calls the data pipeline function 'load_and_process' to prepare the dataset of Kickstarter projects for analysis"
   ]
  },
  {
   "cell_type": "code",
   "execution_count": 1,
   "metadata": {},
   "outputs": [
    {
     "name": "stdout",
     "output_type": "stream",
     "text": [
      "  main_category  stateInt  durationInt\n",
      "0    Publishing         0           58\n",
      "1  Film & Video         0           59\n",
      "2  Film & Video         0           44\n",
      "3         Music         0           29\n",
      "4  Film & Video         2           55\n",
      "5          Food         1           34\n",
      "6          Food         1           19\n",
      "7          Food         0           44\n",
      "8        Design         2           34\n",
      "9  Film & Video         2           29\n"
     ]
    }
   ],
   "source": [
    "import pandas as pd\n",
    "import seaborn as sns\n",
    "import numpy as np\n",
    "import sys\n",
    "import os\n",
    "import datetime\n",
    "\n",
    "# For how to import the scripts folder so that it can be used:\n",
    "# https://stackoverflow.com/questions/53049195/importing-custom-module-into-jupyter-notebook\n",
    "# https://stackoverflow.com/questions/49264194/import-py-file-in-another-directory-in-jupyter-notebook\n",
    "sys.path.append('../scripts')\n",
    "\n",
    "import project_functions\n",
    "# relative import did not work for some reason\n",
    "#from .. import project_functions\n",
    "\n",
    "pathToData = '../../data/raw/ks-projects-201801.csv'\n",
    "\n",
    "df = project_functions.load_and_process(pathToData)\n",
    "\n",
    "print(df[['main_category','stateInt','durationInt']].head(10))"
   ]
  },
  {
   "cell_type": "markdown",
   "metadata": {},
   "source": [
    "# Task 3 | Explanatory Data Analysis | Jacob"
   ]
  },
  {
   "cell_type": "code",
   "execution_count": null,
   "metadata": {},
   "outputs": [],
   "source": []
  },
  {
   "cell_type": "markdown",
   "metadata": {},
   "source": [
    "# Task 3 | Explanatory Data Analysis | Rylan"
   ]
  },
  {
   "cell_type": "code",
   "execution_count": null,
   "metadata": {},
   "outputs": [],
   "source": []
  },
  {
   "cell_type": "markdown",
   "metadata": {},
   "source": [
    "# Task 4 | Analysis of Data to Answer Research Question | Jacob"
   ]
  },
  {
   "cell_type": "code",
   "execution_count": null,
   "metadata": {},
   "outputs": [],
   "source": []
  },
  {
   "cell_type": "markdown",
   "metadata": {},
   "source": [
    "# Task 4 | Analysis of Data to Answer Research Question | Rylan"
   ]
  },
  {
   "cell_type": "code",
   "execution_count": null,
   "metadata": {},
   "outputs": [],
   "source": []
  }
 ],
 "metadata": {
  "kernelspec": {
   "display_name": "Python 3",
   "language": "python",
   "name": "python3"
  },
  "language_info": {
   "codemirror_mode": {
    "name": "ipython",
    "version": 3
   },
   "file_extension": ".py",
   "mimetype": "text/x-python",
   "name": "python",
   "nbconvert_exporter": "python",
   "pygments_lexer": "ipython3",
   "version": "3.8.5"
  }
 },
 "nbformat": 4,
 "nbformat_minor": 4
}
