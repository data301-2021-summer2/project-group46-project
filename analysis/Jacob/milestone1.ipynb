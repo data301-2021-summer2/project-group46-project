{
 "cells": [
  {
   "cell_type": "code",
   "execution_count": 1,
   "metadata": {},
   "outputs": [
    {
     "name": "stdout",
     "output_type": "stream",
     "text": [
      "ID                                       1000002330\n",
      "name                The Songs of Adelaide & Abullah\n",
      "category                                     Poetry\n",
      "main_category                            Publishing\n",
      "currency                                        GBP\n",
      "deadline                                 2015-10-09\n",
      "goal                                           1000\n",
      "launched                        2015-08-11 12:12:28\n",
      "pledged                                           0\n",
      "state                                        failed\n",
      "backers                                           0\n",
      "country                                          GB\n",
      "usd pledged                                       0\n",
      "usd_pledged_real                                  0\n",
      "usd_goal_real                               1533.95\n",
      "Name: 0, dtype: object\n",
      "Hello\n"
     ]
    }
   ],
   "source": [
    "# for help learning pandas: https://www.w3schools.com/python/pandas/default.asp\n",
    "import pandas as pd\n",
    "\n",
    "# for learning about csv files: https://en.wikipedia.org/wiki/Comma-separated_values\n",
    "dataFrame = pd.read_csv('../../data/raw/ks-projects-201801.csv')\n",
    "\n",
    "print(dataFrame.loc[0])"
   ]
  },
  {
   "cell_type": "code",
   "execution_count": null,
   "metadata": {},
   "outputs": [],
   "source": []
  }
 ],
 "metadata": {
  "kernelspec": {
   "display_name": "Python 3",
   "language": "python",
   "name": "python3"
  },
  "language_info": {
   "codemirror_mode": {
    "name": "ipython",
    "version": 3
   },
   "file_extension": ".py",
   "mimetype": "text/x-python",
   "name": "python",
   "nbconvert_exporter": "python",
   "pygments_lexer": "ipython3",
   "version": "3.8.5"
  }
 },
 "nbformat": 4,
 "nbformat_minor": 4
}
